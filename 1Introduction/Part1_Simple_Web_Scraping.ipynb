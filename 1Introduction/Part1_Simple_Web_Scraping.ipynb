{
 "cells": [
  {
   "cell_type": "markdown",
   "metadata": {},
   "source": [
    "# Introduction"
   ]
  },
  {
   "cell_type": "markdown",
   "metadata": {},
   "source": [
    "Avant de commencer, parcourer le fichier README.rst"
   ]
  },
  {
   "cell_type": "markdown",
   "metadata": {},
   "source": [
    "# Requête HTTP "
   ]
  },
  {
   "cell_type": "markdown",
   "metadata": {},
   "source": [
    "Un requête HTTP est une requête basé sur le protocole TCP, elle fait partie de la couche application de la couche OSI. Elle permet d'accéder aux données mise à disposition sur une adresse IP (ou url résolue par un DNS) et un port. \n",
    "\n",
    "Les deux ports les plus utilisé dans le web sont le 80 pour les sites en HTTP et le 443 pour les sites en HTTPS. HTTPS est une variable du protocole HTTP basé sur le protocole TLS.\n",
    "\n",
    "Il existe de nombreux types de requêtes selon la convention `REST`: \n",
    "- GET\n",
    "- POST\n",
    "- PUT \n",
    "- DELETE\n",
    "- UPDATE.\n",
    "\n",
    "Dans notre cas nous allons utiliser la plupart du temps des GET et potentiellement des POST. \n",
    "- Le GET permet comme sont nom l'indique de récupérer des informations en fonction de certain paramètres. \n",
    "- Le POST nécéssite un envoie de données pour récupérer des données. Le body du post est, la plupart du temps, envoyé sous la forme d'un objet JSON.\n",
    "\n",
    "Ces requêtes encapsulent un certain nombre de paramètres qui permettent soient d'identifier une provenance et un utilisateur ou de réaliser différentes actions."
   ]
  },
  {
   "cell_type": "code",
   "execution_count": 1,
   "metadata": {},
   "outputs": [],
   "source": [
    "import requests\n",
    "import re\n",
    "from fake_useragent import UserAgent"
   ]
  },
  {
   "cell_type": "code",
   "execution_count": 2,
   "metadata": {},
   "outputs": [
    {
     "data": {
      "text/plain": [
       "200"
      ]
     },
     "execution_count": 2,
     "metadata": {},
     "output_type": "execute_result"
    }
   ],
   "source": [
    "url = \"http://www.esiee.fr/\"\n",
    "response = requests.get(url)\n",
    "response.status_code"
   ]
  },
  {
   "cell_type": "markdown",
   "metadata": {},
   "source": [
    "Il existe deux méthodes pour récupérer le contenu de la page :\n",
    "\n",
    "- `response.text` qui permet de retourner le texte sous la forme d'une chaine de charactères.\n",
    "- `response.content` qui permet de récupérer le contenu de la page sous la forme de bytes"
   ]
  },
  {
   "cell_type": "code",
   "execution_count": 3,
   "metadata": {},
   "outputs": [
    {
     "data": {
      "text/plain": [
       "bytes"
      ]
     },
     "execution_count": 3,
     "metadata": {},
     "output_type": "execute_result"
    }
   ],
   "source": [
    "type(response.content)"
   ]
  },
  {
   "cell_type": "code",
   "execution_count": 4,
   "metadata": {},
   "outputs": [
    {
     "data": {
      "text/plain": [
       "str"
      ]
     },
     "execution_count": 4,
     "metadata": {},
     "output_type": "execute_result"
    }
   ],
   "source": [
    "type(response.text)"
   ]
  },
  {
   "cell_type": "markdown",
   "metadata": {},
   "source": [
    "Pour récupérer les 1000 premiers charactères de la page :"
   ]
  },
  {
   "cell_type": "code",
   "execution_count": 5,
   "metadata": {},
   "outputs": [
    {
     "data": {
      "text/plain": [
       "'<!DOCTYPE html>\\n<!--[if lt IE 7]>      <html class=\"no-js lt-ie9 lt-ie8 lt-ie7\"> <![endif]-->\\n<!--[if IE 7]>         <html class=\"no-js lt-ie9 lt-ie8\"> <![endif]-->\\n<!--[if IE 8]>         <html class=\"no-js lt-ie9\"> <![endif]-->\\n<!--[if IE 9]>         <html class=\"no-js ie9\"> <![endif]-->\\n<!--[if gt IE 9]><!--> <html class=\"no-js\"> <!--<![endif]-->\\n<head profile=\"http://www.w3.org/1999/xhtml/vocab\">\\n\\t<!-- Google Tag Manager -->\\n\\t<script>\\n\\t\\t(function(w,d,s,l,i){\\n\\t\\t\\tw[l]=w[l]||[];w[l].push({\\'gtm.start\\':new Date().getTime(),event:\\'gtm.js\\'});\\n\\t\\t\\tvar f=d.getElementsByTagName(s)[0],\\tj=d.createElement(s),dl=l!=\\'dataLayer\\'?\\'&l=\\'+l:\\'\\';\\n\\t\\t\\tj.async=true;\\n\\t\\t\\tj.src=\\'https://www.googletagmanager.com/gtm.js?id=\\'+i+dl;f.parentNode.insertBefore(j,f);\\n\\t\\t\\t}\\n\\t\\t)\\n\\t\\t(window,document,\\'script\\',\\'dataLayer\\',\\'GTM-MQF5LJB\\');\\n\\t</script>\\n\\t<!-- End Google Tag Manager -->\\n  <meta name=\"google-site-verification\" content=\"JnG7DTdhQuWTeSHlWC63CeWpb3WValiOorksYjoYOWI\" />\\n  <meta http-equiv=\"Content-Type\" content=\"text/ht'"
      ]
     },
     "execution_count": 5,
     "metadata": {},
     "output_type": "execute_result"
    }
   ],
   "source": [
    "response.text[0:1000]"
   ]
  },
  {
   "cell_type": "markdown",
   "metadata": {},
   "source": [
    "Pour récupérer les headers HTTP de la réponse :"
   ]
  },
  {
   "cell_type": "code",
   "execution_count": 6,
   "metadata": {},
   "outputs": [
    {
     "data": {
      "text/plain": [
       "{'Date': 'Wed, 11 Nov 2020 12:40:25 GMT', 'Server': 'Apache/2.4.25 (Debian)', 'Expires': 'Sun, 19 Nov 1978 05:00:00 GMT', 'Cache-Control': 'no-cache, must-revalidate', 'X-Content-Type-Options': 'nosniff', 'Content-Language': 'fr', 'X-Frame-Options': 'SAMEORIGIN', 'X-Generator': 'Drupal 7 (http://drupal.org)', 'Vary': 'Accept-Encoding', 'Content-Encoding': 'gzip', 'Content-Length': '16448', 'Keep-Alive': 'timeout=5, max=150', 'Connection': 'Keep-Alive', 'Content-Type': 'text/html; charset=utf-8'}"
      ]
     },
     "execution_count": 6,
     "metadata": {},
     "output_type": "execute_result"
    }
   ],
   "source": [
    "response.headers"
   ]
  },
  {
   "cell_type": "markdown",
   "metadata": {},
   "source": [
    "On peut modifier les paramêtres de la requête et/ou ses headers. On peut par exemple ajouter un UserAgent et un timeout de 10 secondes:"
   ]
  },
  {
   "cell_type": "code",
   "execution_count": 7,
   "metadata": {},
   "outputs": [
    {
     "data": {
      "text/plain": [
       "b'<!DOCTYPE html>\\n<!--[if lt IE 7]>      <html class=\"no-js lt-ie9 lt-ie8 lt-ie7\"> <![endif]-->\\n<!--[if IE 7]>         <html class=\"no-js lt-ie9 lt-ie8\"> <![endif]-->\\n<!--[if IE 8]>         <html class=\"no-js lt-ie9\"> <![endif]-->\\n<!--[if IE 9]>         <html class=\"no-js ie9\"> <![endif]-->\\n<!--[if gt IE 9]><!--> <html class=\"no-js\"> <!--<![endif]-->\\n<head profile=\"http://www.w3.org/1999/xhtml/vocab\">\\n\\t<!-- Google Tag Manager -->\\n\\t<script>\\n\\t\\t(function(w,d,s,l,i){\\n\\t\\t\\tw[l]=w[l]||[];w[l].push({\\'gtm.start\\':new Date().getTime(),event:\\'gtm.js\\'});\\n\\t\\t\\tvar f=d.getElementsByTagName(s)[0],\\tj=d.createElement(s),dl=l!=\\'dataLayer\\'?\\'&l=\\'+l:\\'\\';\\n\\t\\t\\tj.async=true;\\n\\t\\t\\tj.src=\\'https://www.googletagmanager.com/gtm.js?id=\\'+i+dl;f.parentNode.insertBefore(j,f);\\n\\t\\t\\t}\\n\\t\\t)\\n\\t\\t(window,document,\\'script\\',\\'dataLayer\\',\\'GTM-MQF5LJB\\');\\n\\t</script>\\n\\t<!-- End Google Tag Manager -->\\n  <meta name=\"google-site-verification\" content=\"JnG7DTdhQuWTeSHlWC63CeWpb3WValiOorksYjoYOWI\" />\\n  <meta http-equiv=\"Content-Type\" content=\"text/ht'"
      ]
     },
     "execution_count": 7,
     "metadata": {},
     "output_type": "execute_result"
    }
   ],
   "source": [
    "headers = {'User-Agent': 'Mozilla/5.0 (Macintosh; Intel Mac OS X 10_10_1) AppleWebKit/537.36 (KHTML, like Gecko) Chrome/39.0.2171.95 Safari/537.36'}\n",
    "response = requests.get(url, headers=headers, timeout = 10)\n",
    "response.content[0:1000]"
   ]
  },
  {
   "cell_type": "markdown",
   "metadata": {},
   "source": [
    "## Exercice"
   ]
  },
  {
   "cell_type": "markdown",
   "metadata": {},
   "source": [
    "## Exercice 1\n",
    "\n",
    "- Créer une classe Python permettant de faire des requêtes HTTP.\n",
    "- Cette classe doit utiliser toujours le même UserAgent.\n",
    "- Le TimeOut sera spécifié à chaque appelle avec une valeur par défaut.\n",
    "- Un mécanisme de retry sera mis en place de façon recursive.\n",
    "\n",
    "## Exercice 2\n",
    "\n",
    "- Faire une fonction permettant de supprimer tous les espaces supperflus d'une string\n",
    "- Faire une fonction qui prend une string html et renvois une string intelligible (enlever les caractères spéciaux,\n",
    "- Récupérer le domaine en fonction d'un url"
   ]
  },
  {
   "cell_type": "code",
   "execution_count": 61,
   "metadata": {},
   "outputs": [],
   "source": [
    "class requeteHTTP :\n",
    "    \n",
    "    def __init__(self, url):\n",
    "         \n",
    "        ua = UserAgent()\n",
    "        self.headers = {'User-Agent': ua.random}\n",
    "\n",
    "        #self.headers = {'User-Agent': 'Mozilla/5.0 (Macintosh; Intel Mac OS X 10_10_1) AppleWebKit/537.36 (KHTML, like Gecko) Chrome/39.0.2171.95 Safari/537.36'}\n",
    "        self.url = url\n",
    "        \n",
    "    #exo 1\n",
    "    def get(self, timeout = 10, max_retry = 3):\n",
    "        rep = requests.get(self.url, headers = self.headers, timeout = timeout)\n",
    "        cpt = 0\n",
    "        while rep.status_code != 200 and cpt < max_retry :\n",
    "            rep = requests.get(url, timeout = timeout)\n",
    "            cpt += 1\n",
    "        return rep.text\n",
    "    \n",
    "    def get_soup(self, text_response):\n",
    "        return BeautifulSoup(text_response, \"lxml\")\n",
    "    \n",
    "    def remove_white_spaces(self, x):\n",
    "        return x.strip()\n",
    "    \n",
    "    def clean_html_string(self, raw_html):\n",
    "        cleaner = re.compile('<.*?>')\n",
    "        cleantext = re.sub(cleaner, '', raw_html)\n",
    "        return cleantext\n",
    "    \n",
    "    def extract_domain_name(self):\n",
    "        m = re.search('http?://([A-Za-z_0-9.-]+).*', self.url)\n",
    "        if m:\n",
    "            return m.group(1)\n",
    "        "
   ]
  },
  {
   "cell_type": "code",
   "execution_count": 25,
   "metadata": {},
   "outputs": [],
   "source": [
    "class Scrapper :\n",
    "    \n",
    "    def __init__(self, url):\n",
    "        self.headers = {'User-Agent': 'Mozilla/5.0 (Macintosh; Intel Mac OS X 10_10_1) AppleWebKit/537.36 (KHTML, like Gecko) Chrome/39.0.2171.95 Safari/537.36'}\n",
    "        self.url = url\n",
    "        \n",
    "        \n",
    "    def get_response(self, timeout = 10, max_retry = 3):\n",
    "        lastException = None\n",
    "        for _ in range(max_retry) :\n",
    "            try : \n",
    "                response = request.get(self.url, headers = self.headers, timeout = timeout)\n",
    "                return response.text\n",
    "            except Exception as e : \n",
    "                lastException = 0\n",
    "        raise lastException\n",
    "            "
   ]
  },
  {
   "cell_type": "code",
   "execution_count": 26,
   "metadata": {},
   "outputs": [
    {
     "ename": "TypeError",
     "evalue": "exceptions must derive from BaseException",
     "output_type": "error",
     "traceback": [
      "\u001b[1;31m---------------------------------------------------------------------------\u001b[0m",
      "\u001b[1;31mTypeError\u001b[0m                                 Traceback (most recent call last)",
      "\u001b[1;32m<ipython-input-26-05c30ca198a1>\u001b[0m in \u001b[0;36m<module>\u001b[1;34m\u001b[0m\n\u001b[0;32m      1\u001b[0m \u001b[0mre\u001b[0m \u001b[1;33m=\u001b[0m \u001b[0mScrapper\u001b[0m\u001b[1;33m(\u001b[0m\u001b[1;34m'https://fr.wikipedia.org/wiki/Liste_des_codes_HTTP/'\u001b[0m\u001b[1;33m)\u001b[0m\u001b[1;33m\u001b[0m\u001b[1;33m\u001b[0m\u001b[0m\n\u001b[1;32m----> 2\u001b[1;33m \u001b[0mprint\u001b[0m\u001b[1;33m(\u001b[0m\u001b[0mre\u001b[0m\u001b[1;33m.\u001b[0m\u001b[0mget_response\u001b[0m\u001b[1;33m(\u001b[0m\u001b[1;33m)\u001b[0m\u001b[1;33m)\u001b[0m\u001b[1;33m\u001b[0m\u001b[1;33m\u001b[0m\u001b[0m\n\u001b[0m",
      "\u001b[1;32m<ipython-input-25-49e733f33fc5>\u001b[0m in \u001b[0;36mget_response\u001b[1;34m(self, timeout, max_retry)\u001b[0m\n\u001b[0;32m     14\u001b[0m             \u001b[1;32mexcept\u001b[0m \u001b[0mException\u001b[0m \u001b[1;32mas\u001b[0m \u001b[0me\u001b[0m \u001b[1;33m:\u001b[0m\u001b[1;33m\u001b[0m\u001b[1;33m\u001b[0m\u001b[0m\n\u001b[0;32m     15\u001b[0m                 \u001b[0mlastException\u001b[0m \u001b[1;33m=\u001b[0m \u001b[1;36m0\u001b[0m\u001b[1;33m\u001b[0m\u001b[1;33m\u001b[0m\u001b[0m\n\u001b[1;32m---> 16\u001b[1;33m         \u001b[1;32mraise\u001b[0m \u001b[0mlastException\u001b[0m\u001b[1;33m\u001b[0m\u001b[1;33m\u001b[0m\u001b[0m\n\u001b[0m\u001b[0;32m     17\u001b[0m \u001b[1;33m\u001b[0m\u001b[0m\n",
      "\u001b[1;31mTypeError\u001b[0m: exceptions must derive from BaseException"
     ]
    }
   ],
   "source": [
    "re = Scrapper('https://fr.wikipedia.org/wiki/Liste_des_codes_HTTP/')\n",
    "print(re.get_response())"
   ]
  },
  {
   "cell_type": "code",
   "execution_count": 63,
   "metadata": {},
   "outputs": [
    {
     "name": "stdout",
     "output_type": "stream",
     "text": [
      "www.esiee.fr\n"
     ]
    }
   ],
   "source": [
    "requete = requeteHTTP('http://www.esiee.fr/')\n",
    "raw_html = requete.get()\n",
    "#print(requete.clean_html_string(raw_html))\n",
    "print(requete.extract_domain_name())"
   ]
  },
  {
   "cell_type": "code",
   "execution_count": 67,
   "metadata": {},
   "outputs": [
    {
     "name": "stdout",
     "output_type": "stream",
     "text": [
      "\n",
      "\n",
      "\n",
      "\n",
      "Wikipédia, l'encyclopédie libre\n",
      "document.documentElement.className=\"client-js\";RLCONF={\"wgBreakFrames\":!1,\"wgSeparatorTransformTable\":[\",\\t.\",\" \\t,\"],\"wgDigitTransformTable\":[\"\",\"\"],\"wgDefaultDateFormat\":\"dmy\",\"wgMonthNames\":[\"\",\"janvier\",\"février\",\"mars\",\"avril\",\"mai\",\"juin\",\"juillet\",\"août\",\"septembre\",\"octobre\",\"novembre\",\"décembre\"],\"wgRequestId\":\"840932d2-4d95-425a-8d70-9ce2dfa26cd9\",\"wgCSPNonce\":!1,\"wgCanonicalNamespace\":\"Project\",\"wgCanonicalSpecialPageName\":!1,\"wgNamespaceNumber\":4,\"wgPageName\":\"Wikipédia:Accueil_principal\",\"wgTitle\":\"Accueil principal\",\"wgCurRevisionId\":164303621,\"wgRevisionId\":164303621,\"wgArticleId\":10635368,\"wgIsArticle\":!0,\"wgIsRedirect\":!1,\"wgAction\":\"view\",\"wgUserName\":null,\"wgUserGroups\":[\"*\"],\"wgCategories\":[],\"wgPageContentLanguage\":\"fr\",\"wgPageContentModel\":\"wikitext\",\"wgRelevantPageName\":\"Wikipédia:Accueil_principal\",\"wgRelevantArticleId\":10635368,\"wgIsProbablyEditable\":!1,\"wgRelevantPageIsProbablyEditable\":!1,\"wgRestrictionEdit\":[\"sysop\"],\n",
      "\"wgRestrictionMove\":[\"sysop\"],\"wgIsMainPage\":!0,\"wgMediaViewerOnClick\":!0,\"wgMediaViewerEnabledByDefault\":!0,\"wgPopupsReferencePreviews\":!1,\"wgPopupsConflictsWithNavPopupGadget\":!1,\"wgVisualEditor\":{\"pageLanguageCode\":\"fr\",\"pageLanguageDir\":\"ltr\",\"pageVariantFallbacks\":\"fr\"},\"wgMFDisplayWikibaseDescriptions\":{\"search\":!0,\"nearby\":!0,\"watchlist\":!0,\"tagline\":!0},\"wgWMESchemaEditAttemptStepOversample\":!1,\"wgULSCurrentAutonym\":\"français\",\"wgNoticeProject\":\"wikipedia\",\"wgCentralAuthMobileDomain\":!1,\"wgEditSubmitButtonLabelPublish\":!0,\"wgULSPosition\":\"interlanguage\",\"wgGENewcomerTasksGuidanceEnabled\":!0,\"wgWikibaseItemId\":\"Q5296\"};RLSTATE={\"ext.globalCssJs.user.styles\":\"ready\",\"site.styles\":\"ready\",\"noscript\":\"ready\",\"user.styles\":\"ready\",\"ext.globalCssJs.user\":\"ready\",\"user\":\"ready\",\"user.options\":\"loading\",\"skins.vector.styles\":\"ready\",\"mediawiki.ui.icon\":\"ready\",\"ext.visualEditor.desktopArticleTarget.noscript\":\"ready\",\"ext.uls.interlanguage\":\"ready\",\n",
      "\"ext.wikimediaBadges\":\"ready\",\"wikibase.client.init\":\"ready\"};RLPAGEMODULES=[\"site\",\"mediawiki.page.ready\",\"skins.vector.js\",\"ext.gadget.ArchiveLinks\",\"ext.gadget.MonobookToolbarStandard\",\"ext.gadget.Wdsearch\",\"ext.centralauth.centralautologin\",\"mmv.head\",\"mmv.bootstrap.autostart\",\"ext.popups\",\"ext.visualEditor.desktopArticleTarget.init\",\"ext.visualEditor.targetLoader\",\"ext.eventLogging\",\"ext.wikimediaEvents\",\"ext.navigationTiming\",\"ext.uls.compactlinks\",\"ext.uls.interface\",\"ext.cx.eventlogging.campaigns\",\"ext.centralNotice.geoIP\",\"ext.centralNotice.startUp\"];\n",
      "(RLQ=window.RLQ||[]).push(function(){mw.loader.implement(\"user.options@1hzgi\",function($,jQuery,require,module){/*@nomin*/mw.user.tokens.set({\"patrolToken\":\"+\\\\\",\"watchToken\":\"+\\\\\",\"csrfToken\":\"+\\\\\"});mw.user.options.set({\"variant\":\"fr\"});\n",
      "});});\n",
      "\n",
      "\n",
      "\n",
      "\n",
      "\n",
      "\n",
      "\n",
      "\n",
      "\n",
      "\n",
      "\n",
      "\n",
      "\n",
      "\n",
      "\n",
      "\n",
      "\n",
      "\n",
      "\n",
      "\n",
      "\n",
      "\n",
      "\n",
      "\n",
      "\tAller au contenu\n",
      "\t\n",
      "\n",
      "<input\n",
      "\ttype=\"checkbox\"\n",
      "\tid=\"mw-sidebar-checkbox\"\n",
      "\tclass=\"mw-checkbox-hack-checkbox\"\n",
      "\tchecked>\n",
      "\n",
      "\n",
      "\t<label\n",
      "\t\tid=\"mw-sidebar-button\"\n",
      "\t\tclass=\"mw-checkbox-hack-button mw-ui-icon mw-ui-icon-element\"\n",
      "\t\tfor=\"mw-sidebar-checkbox\"\n",
      "\t\trole=\"button\"\n",
      "\t\taria-controls=\"mw-panel\"\n",
      "\t\tdata-event-name=\"ui.sidebar\"\n",
      "\t\ttabindex=\"0\">\n",
      "\t\tAfficher/cacher la barre latérale\n",
      "\t\n",
      "\t\n",
      "\t\t<img class=\"mw-logo-icon\" src=\"/static/images/mobile/copyright/wikipedia.png\" alt=\"\"\n",
      "\t\t\taria-hidden=\"true\" height=\"50\" width=\"50\">\n",
      "\t\t\n",
      "\t\t\t<img class=\"mw-logo-wordmark\" alt=\"Wikipédia\"\n",
      "\t\t\t\tsrc=\"/static/images/mobile/copyright/wikipedia-wordmark-fr.svg\" width=\"119\" height=\"18\">\n",
      "\t\t\t<img class=\"mw-logo-tagline\"\n",
      "\t\t\t\talt=\"l&#039;encyclopédie libre\"\n",
      "\t\t\t\tsrc=\"/static/images/mobile/copyright/wikipedia-tagline-fr.svg\" width=\"113\" height=\"13\">\n",
      "\t\t\n",
      "\t\n",
      "\t\n",
      "\t\n",
      "\t\tRechercher\n",
      "\t\n",
      "\t\n",
      "\t\t\n",
      "\t\t\t\n",
      "\t\t\t\n",
      "\t\t\t\n",
      "\t\t\t\n",
      "\t\t\n",
      "\t\n",
      "\n",
      "\n",
      "\t\n",
      "<nav id=\"p-personal\" class=\"mw-portlet mw-portlet-personal vector-menu\" aria-labelledby=\"p-personal-label\" role=\"navigation\" \n",
      "\t >\n",
      "\t\n",
      "\t\tOutils personnels\n",
      "\t\n",
      "\t\n",
      "\t\tNon connectéDiscussionContributionsCréer un compteSe connecter\n",
      "\t\t\n",
      "\t\n",
      "\n",
      "\n",
      "\n",
      "\n",
      "\n",
      "\t\n",
      "\n",
      "\t\n",
      "<nav id=\"p-navigation\" class=\"mw-portlet mw-portlet-navigation vector-menu vector-menu-portal portal portal-first\" aria-labelledby=\"p-navigation-label\" role=\"navigation\" \n",
      "\t >\n",
      "\t\n",
      "\t\tNavigation\n",
      "\t\n",
      "\t\n",
      "\t\tAccueilPortails thématiquesArticle au hasardContact\n",
      "\t\t\n",
      "\t\n",
      "\n",
      "\n",
      "\t\n",
      "<nav id=\"p-Contribuer\" class=\"mw-portlet mw-portlet-Contribuer vector-menu vector-menu-portal portal\" aria-labelledby=\"p-Contribuer-label\" role=\"navigation\" \n",
      "\t >\n",
      "\t\n",
      "\t\tContribuer\n",
      "\t\n",
      "\t\n",
      "\t\tDébuter sur WikipédiaAideCommunautéModifications récentesFaire un don\n",
      "\t\t\n",
      "\t\n",
      "\n",
      "\n",
      "<nav id=\"p-tb\" class=\"mw-portlet mw-portlet-tb vector-menu vector-menu-portal portal\" aria-labelledby=\"p-tb-label\" role=\"navigation\" \n",
      "\t >\n",
      "\t\n",
      "\t\tOutils\n",
      "\t\n",
      "\t\n",
      "\t\tPages liéesSuivi des pages liéesTéléverser un fichierPages spécialesLien permanentInformations sur la pageÉlément Wikidata\n",
      "\t\t\n",
      "\t\n",
      "\n",
      "\n",
      "<nav id=\"p-coll-print_export\" class=\"mw-portlet mw-portlet-coll-print_export vector-menu vector-menu-portal portal\" aria-labelledby=\"p-coll-print_export-label\" role=\"navigation\" \n",
      "\t >\n",
      "\t\n",
      "\t\tImprimer / exporter\n",
      "\t\n",
      "\t\n",
      "\t\tCréer un livreTélécharger comme PDFVersion imprimable\n",
      "\t\t\n",
      "\t\n",
      "\n",
      "\n",
      "<nav id=\"p-wikibase-otherprojects\" class=\"mw-portlet mw-portlet-wikibase-otherprojects vector-menu vector-menu-portal portal\" aria-labelledby=\"p-wikibase-otherprojects-label\" role=\"navigation\" \n",
      "\t >\n",
      "\t\n",
      "\t\tDans d’autres projets\n",
      "\t\n",
      "\t\n",
      "\t\tWikimedia CommonsMediaWikiMéta-WikiWikispeciesWikilivresWikidataWikimaniaWikinewsWikiquoteWikisourceWikiversitéWikivoyageWiktionnaire\n",
      "\t\t\n",
      "\t\n",
      "\n",
      "\n",
      "\t\n",
      "<nav id=\"p-lang\" class=\"mw-portlet mw-portlet-lang vector-menu vector-menu-portal portal\" aria-labelledby=\"p-lang-label\" role=\"navigation\" \n",
      "\t >\n",
      "\t\n",
      "\t\tDans d’autres langues\n",
      "\t\n",
      "\t\n",
      "\t\tQafár afАҧсшәаAcèhАдыгабзэAfrikaansAkanAlemannischአማርኛAragonésÆngliscالعربيةܐܪܡܝܐالدارجةمصرىঅসমীয়াAsturianuAtikamekwАварKotavaअवधीAymar aruAzərbaycancaتۆرکجهБашҡортсаBasa BaliBoarischŽemaitėškaBikol CentralБеларускаяБеларуская (тарашкевіца)‎БългарскиभोजपुरीBislamaBanjarBamanankanবাংলাབོད་ཡིགবিষ্ণুপ্রিয়া মণিপুরীBrezhonegBosanskiᨅᨔ ᨕᨘᨁᨗБуряадCatalàChavacano de ZamboangaMìng-dĕ̤ng-ngṳ̄НохчийнCebuanoChamoruChoctawᏣᎳᎩTsetsêhestâheseکوردیCorsuNēhiyawēwin / ᓀᐦᐃᔭᐍᐏᐣQırımtatarcaČeštinaKaszëbscziСловѣньскъ / ⰔⰎⰑⰂⰡⰐⰠⰔⰍⰟЧӑвашлаCymraegDanskDeutschThuɔŋjäŋZazakiDolnoserbskiडोटेलीދިވެހިބަސްཇོང་ཁEʋegbeΕλληνικάEmiliàn e rumagnòlEnglishEsperantoEspañolEestiEuskaraEstremeñuفارسیFulfuldeSuomiVõroNa Vosa VakavitiFøroysktArpetanNordfriiskFurlanFryskGaeilgeGagauz贛語Kriyòl gwiyannenGàidhligGalegoگیلکیAvañe'ẽगोंयची कोंकणी / Gõychi KonknniBahasa Hulontalo𐌲𐌿𐍄𐌹𐍃𐌺ગુજરાતીGaelgHausa客家語/Hak-kâ-ngîHawaiʻiעבריתहिन्दीFiji HindiHiri MotuHrvatskiHornjoserbsceKreyòl ayisyenMagyarՀայերենԱրեւմտահայերէնOtsihereroInterlinguaBahasa IndonesiaInterlingueIgboIñupiakIlokanoГӀалгӀайIdoÍslenskaItalianoᐃᓄᒃᑎᑐᑦ/inuktitut日本語PatoisLa .lojban.JawaქართულიQaraqalpaqshaTaqbaylitАдыгэбзэKabɩyɛKongoGĩkũyũKwanyamaҚазақшаKalaallisutភាសាខ្មែរಕನ್ನಡ한국어Перем КомиKanuriКъарачай-малкъарकॉशुर / کٲشُرRipoarischKurdîКомиKernowekКыргызчаLatinaLadinoLëtzebuergeschЛаккуЛезгиLingua Franca NovaLugandaLimburgsLigureLadinLumbaartLingálaລາວلۊری شومالیLietuviųLatgaļuLatviešuमैथिलीBasa BanyumasanМокшеньMalagasyОлык марийMāoriMinangkabauМакедонскиമലയാളംМонголमराठीКырык марыBahasa MelayuMaltiMvskokeMirandésမြန်မာဘာသာЭрзяньمازِرونیDorerin NaoeroNāhuatlNapulitanoPlattdüütschNedersaksiesनेपालीनेपाल भाषाOshiwamboNederlandsNorsk nynorskNorsk bokmålNovialߒߞߏNouormandSesotho sa LeboaDiné bizaadChi-ChewaOccitanLivvinkarjalaOromooଓଡ଼ିଆИронਪੰਜਾਬੀPangasinanKapampanganPapiamentuPicardDeitschPälzischपालिNorfuk / PitkernPolskiPiemontèisپنجابیΠοντιακάپښتوPortuguêsRuna SimiRumantschRomani čhibKirundiRomânăArmãneashtiTarandíneРусскийРусиньскыйKinyarwandaसंस्कृतम्Саха тылаᱥᱟᱱᱛᱟᱲᱤSarduSicilianuScotsسنڌيDavvisámegiellaSängöSrpskohrvatski / српскохрватскиၽႃႇသႃႇတႆး සිංහලSimple EnglishSlovenčinaSlovenščinaGagana SamoaAnarâškielâChiShonaSoomaaligaShqipСрпски / srpskiSranantongoSiSwatiSesothoSeelterskSundaSvenskaKiswahiliŚlůnskiSakizayaதமிழ்ತುಳುతెలుగుTetunТоҷикӣไทยትግርኛTürkmençeTagalogSetswanaLea faka-TongaTok PisinTürkçeXitsongaТатарча/tatarçaChiTumbukaTwiReo tahitiТыва дылУдмуртئۇيغۇرچە / UyghurcheУкраїнськаاردوOʻzbekcha/ўзбекчаTshivendaVènetoVepsän kel’Tiếng ViệtWest-VlamsVolapükWalonWinarayWolof吴语ХальмгIsiXhosaმარგალურიייִדישYorùbáVahcuenghZeêuws中文文言Bân-lâm-gú粵語IsiZulu\n",
      "\t\tModifier les liens\n",
      "\t\n",
      "\n",
      "\n",
      "\n",
      "\n",
      "\t\n",
      "\t\tMenu de navigation\n",
      "\t\t\n",
      "\t\t\t\n",
      "\t\t\t\t\n",
      "\t\t\t\t\t\n",
      "<nav id=\"p-namespaces\" class=\"mw-portlet mw-portlet-namespaces vector-menu vector-menu-tabs\" aria-labelledby=\"p-namespaces-label\" role=\"navigation\" \n",
      "\t >\n",
      "\t\n",
      "\t\tEspaces de noms\n",
      "\t\n",
      "\t\n",
      "\t\tAccueilDiscussion\n",
      "\t\t\n",
      "\t\n",
      "\n",
      "\n",
      "\t\t\t\t\t\n",
      "<nav id=\"p-variants\" class=\"mw-portlet mw-portlet-variants emptyPortlet vector-menu vector-menu-dropdown\" aria-labelledby=\"p-variants-label\" role=\"navigation\" \n",
      "\t >\n",
      "\t\n",
      "\t\n",
      "\t\tVariantes\n",
      "\t\n",
      "\t\n",
      "\t\t\n",
      "\t\t\n",
      "\t\n",
      "\n",
      "\n",
      "\t\t\t\t\n",
      "\t\t\t\t\n",
      "\t\t\t\t\t\n",
      "<nav id=\"p-views\" class=\"mw-portlet mw-portlet-views vector-menu vector-menu-tabs\" aria-labelledby=\"p-views-label\" role=\"navigation\" \n",
      "\t >\n",
      "\t\n",
      "\t\tAffichages\n",
      "\t\n",
      "\t\n",
      "\t\tLireVoir le texte sourceVoir l’historique\n",
      "\t\t\n",
      "\t\n",
      "\n",
      "\n",
      "\t\t\t\t\t\n",
      "<nav id=\"p-cactions\" class=\"mw-portlet mw-portlet-cactions emptyPortlet vector-menu vector-menu-dropdown\" aria-labelledby=\"p-cactions-label\" role=\"navigation\" \n",
      "\t >\n",
      "\t\n",
      "\t\n",
      "\t\tPlus\n",
      "\t\n",
      "\t\n",
      "\t\t\n",
      "\t\t\n",
      "\t\n",
      "\n",
      "\n",
      "\t\t\t\t\n",
      "\t\t\t\n",
      "\t\t\n",
      "\t\n",
      "\t\n",
      "\n",
      "\n",
      "\t\n",
      "\t\n",
      "\t\n",
      "\t\n",
      "\tWikipédia:Accueil principal\n",
      "\t\n",
      "\t\tUne page de Wikipédia, l&#039;encyclopédie libre.\n",
      "\t\t\n",
      "\t\t\n",
      "\t\t\n",
      "\t\t\n",
      "\n",
      "\n",
      "\n",
      "\n",
      "Wikipédia\n",
      "L'encyclopédie libre que chacun peut améliorer\n",
      "\n",
      "\n",
      "\n",
      "\n",
      "Version pour appareil mobile\n",
      "\n",
      "Accueil de la communauté\n",
      "Comment contribuer&#160;?\n",
      "Portails thématiques\n",
      "Principes fondateurs\n",
      "Sommaire de l'aide\n",
      "Poser une question\n",
      "\n",
      "\n",
      "\n",
      "\n",
      "\n",
      "\n",
      "\n",
      "\n",
      "\n",
      "Article labellisé du jour\n",
      "\n",
      "Romain III Argyre (en grec&#160;: Ρωμανός Γʹ Αργυρός), né en 968 et mort le 11 avril 1034, est un empereur byzantin du 11 novembre 1028 à 1034. C'est le petit-fils de Romain Argyre et de son épouse Agathe Lécapène, elle-même fille de Romain Ier Lécapène.\n",
      "Issu de l'aristocratie, il occupe différentes hautes fonctions administratives quand intervient la mort de Constantin VIII en 1028. Ce dernier est le dernier représentant mâle de la prestigieuse dynastie macédonienne, qui ne survit plus qu'au travers de ses deux filles, Zoé et Théodora. Sur son lit de mort, il leur cherche alors un mari pour pérenniser la présence sur le trône de sa famille. Perçu comme plus influençable que d'autres prétendants, c'est Romain III qui est choisi pour épouser Zoé. Lors de son règne, il s'attelle à poursuivre l'effort expansionniste des Macédoniens en Orient avec des résultats contrastés, dont les succès tiennent moins à ses capacités personnelles qu'à celles de ses généraux. Néanmoins, à sa mort, les frontières de l'Empire sont préservées voire renforcées sur les différents fronts.\n",
      "À l'intérieur, s'il a parfois été accusé de mesures fiscales favorables aux plus aisés, il semble avoir rapidement instauré une rigueur fiscale qui suscite des inimitiés. Surtout, sa légitimité fragile est régulièrement remise en question, y compris par Théodora et Zoé. Cette dernière, dont l'union avec Romain n'est animée que de sentiments politiques, se détourne de plus en plus de son mari, lequel lui rend la pareille. Finalement, en 1034, il décède dans des circonstances en partie mystérieuses, qui laissent ouverte la piste d'un complot ou d'un empoisonnement dans le cercle proche du pouvoir. C'est Michel IV, l'amant d'alors de Zoé, qui lui succède.\n",
      "\n",
      "Lire la suite\n",
      "\n",
      "Contenus de qualité\n",
      "Bons contenus\n",
      "Sélection\n",
      "Programme\n",
      "\n",
      "\n",
      "\n",
      "Actualités\n",
      "\n",
      "11 novembre&#160;: élections législatives au Belize, marquées par un important renouvellement de la classe politique.\n",
      "10 novembre&#160;: Manuel Merino (photo) devient le nouveau président de la République du Pérou à la suite de la destitution controversée de Martín Vizcarra par le parlement.\n",
      "10 novembre&#160;: élections législatives en Jordanie.\n",
      "10 novembre&#160;: l'Arménie, l'Azerbaïdjan et la Russie signent un accord de cessez-le-feu pour mettre fin à la guerre au Haut-Karabagh.\n",
      "8 novembre&#160;: élections législatives en Birmanie.\n",
      "\n",
      "Événements en cours&#160;: .mw-parser-output .sep-liste{font-weight:bold}Manifestations en Pologne&#160;· Manifestations au Kirghizistan&#160;· Guerre au Haut-Karabagh&#160;· Manifestations en Biélorussie&#160;· Pandémie de Covid-19&#160;· Crise présidentielle au Venezuela&#160;· Guerre civile yéménite&#160;· Guerre civile libyenne&#160;· Guerre civile syrienne&#160;&#160;–&#160; Vendée Globe&#160;· Tournoi des Six Nations féminin&#160;· Ligue des nations\n",
      "\n",
      "\n",
      "Nécrologie&#160;: Carlos Campos, Khalifa ben Salmane Al Khalifa (11 novembre)&#160;· Carlo Bordini, Dino Da Costa, Saeb Erekat, Tom Heinsohn, Jorge Llopart, Amadou Toumani Touré, Tony Waiters, Sven Wollter (10 novembre)&#160;· Joseph Altairac, Fernando Atzori, Bruno Barbey, Virginia Bonci, Charles-Henri Flammarion, Israël Horovitz, John Kinsela, Marco Santagata, Daniel Yonnet (9 novembre)&#160;· Herman Daled, Howie Meeker, Marc Metdepenningen, Stéphane Moulin, Jean-Yves Nau, Alex Trebek (8 novembre)\n",
      "\n",
      "Novembre 2020\n",
      "Wikinews\n",
      "Modifier\n",
      "\n",
      "\n",
      "\n",
      "Le saviez-vous&#160;?\n",
      "Le monument aux morts de Tende (photo) porte l’inscription «&#160;à ses enfants tombés glorieusement pendant la Grande Guerre 1915-1918&#160;».\n",
      "Tenu pour le premier député de couleur au Parlement britannique, John Stewart s’oppose à l’abolition de l’esclavage en 1833.\n",
      "Le 11 novembre 1918, quelques heures avant l’armistice, la 89e&#160;division d’infanterie américaine reprit la ville de Stenay au prix de 365&#160;morts&#160;; l’attaque, aux dires de son général, visait à conquérir sur l’ennemi les installations de bain qui faisaient défaut à ses soldats.\n",
      "La Victoire du monument aux morts de Trévières, défigurée par un obus durant la Seconde Guerre mondiale, évoque à présent les gueules cassées.\n",
      "Sean Connery s’est engagé en faveur de l’indépendance de l’Écosse et a été l’un des principaux contributeurs du Parti national écossais.\n",
      "Le plus petit mammifère connu pesait autour de 1,3&#160;gramme.\n",
      "\n",
      "Archives\n",
      "Propositions\n",
      "Programme\n",
      "Modifier\n",
      "\n",
      "\n",
      "\n",
      "\n",
      "\n",
      "Présentation\n",
      "Wikipédia est un projet d’encyclopédie collective en ligne, universelle, multilingue et fonctionnant sur le principe du wiki. Ce projet vise à offrir un contenu librement réutilisable, objectif et vérifiable, que chacun peut modifier et améliorer.\n",
      "Wikipédia est définie par des principes fondateurs. Son contenu est sous licence Creative Commons BY-SA. Il peut être copié et réutilisé sous la même licence, sous réserve d'en respecter les conditions. Wikipédia fournit tous ses contenus gratuitement, sans publicité, et sans recourir à l'exploitation des données personnelles de ses utilisateurs.\n",
      "Les rédacteurs des articles de Wikipédia sont bénévoles. Ils coordonnent leurs efforts au sein d'une communauté collaborative, sans dirigeant.\n",
      "\n",
      "\n",
      "\n",
      "\n",
      "Aujourd'hui, Wikipédia en français compte&#160;:\n",
      "\n",
      "\n",
      "2&#160;266&#160;034articles\n",
      "\n",
      "19&#160;364contributeurs enregistrés actifs\n",
      "\n",
      "Comment contribuer&#160;?\n",
      "Chacun peut publier immédiatement du contenu en ligne, à condition de respecter les règles essentielles établies par la Fondation Wikimedia et par la communauté&#160;; par exemple, la vérifiabilité du contenu, l'admissibilité des articles et garder une attitude cordiale.\n",
      "De nombreuses pages d’aide sont à votre disposition, notamment pour créer un article, modifier un article ou insérer une image. N’hésitez pas à poser une question pour être aidé dans vos premiers pas, notamment dans un des  projets thématiques ou dans divers espaces de discussion.\n",
      "Les pages de discussion servent à centraliser les réflexions et les remarques permettant d’améliorer les articles.\n",
      "\n",
      "Ressources pour débuter\n",
      "\n",
      "\n",
      "Éphéméride du 11 novembre\n",
      "43 av. J.-C.&#160;: le second triumvirat est scellé à Bologne à l'initiative de Marc Antoine et Lépide.\n",
      "1889&#160;: le territoire de Washington devient le 42e&#160;État des États-Unis sous le nom d'État de Washington.\n",
      "1918&#160;: la signature de l'armistice à 5h15 par les Alliés et l'Allemagne met fin à 11h aux combats de la Première Guerre mondiale.\n",
      "1975&#160;: indépendance de l'Angola, alors un État de l'Empire colonial portugais.\n",
      "1982&#160;: première mission opérationnelle de la navette spatiale américaine Columbia.\n",
      "\n",
      "Éphéméride détaillée du 11 novembre\n",
      "Archives\n",
      "Modifier\n",
      "\n",
      "\n",
      "\n",
      "Image labellisée du jour\n",
      "\n",
      "Décor imaginé en 1846 pour le deuxième acte des Burgraves, pièce de Victor Hugo, par Humanité René Philastre and Charles-Antoine Cambon.\n",
      "  (définition réelle 4&#160;135&#160;×&#160;3&#160;190)\n",
      "\n",
      "Archives\n",
      "Voir les images\n",
      "Images de qualité sur Wikimédia Commons\n",
      "\n",
      "\n",
      "\n",
      "\n",
      "\n",
      "\n",
      "Wikipédia est hébergé par la Wikimedia Foundation, qui coordonne également les projets suivants, via Méta-Wiki&#160;:\n",
      "\n",
      "\n",
      "\n",
      "\n",
      "Commons  Médiathèque\n",
      "\n",
      "\n",
      "\n",
      "Wikiquote  Citations\n",
      "\n",
      "\n",
      "\n",
      "Wikidata  Base de données\n",
      "\n",
      "\n",
      "\n",
      "Wikivoyage  Guide de voyage\n",
      "\n",
      "\n",
      "\n",
      "Wiktionnaire  Dictionnaire\n",
      "\n",
      "\n",
      "\n",
      "Wikilivres  Manuels\n",
      "\n",
      "\n",
      "\n",
      "Wikisource  Bibliothèque\n",
      "\n",
      "\n",
      "\n",
      "Wikiversité  Cours et exercices\n",
      "\n",
      "\n",
      "\n",
      "Wikinews  Site d'actualités\n",
      "\n",
      "\n",
      "\n",
      "Wikispecies  Répertoire taxonomique\n",
      "\n",
      "\n",
      "\n",
      "\n",
      "\n",
      "\n",
      "<!-- \n",
      "NewPP limit report\n",
      "Parsed by mw1274\n",
      "Cached time: 20201111122843\n",
      "Cache expiry: 3600\n",
      "Dynamic content: true\n",
      "Complications: []\n",
      "CPU time usage: 0.272 seconds\n",
      "Real time usage: 0.409 seconds\n",
      "Preprocessor visited node count: 1122/1000000\n",
      "Post‐expand include size: 56767/2097152 bytes\n",
      "Template argument size: 5641/2097152 bytes\n",
      "Highest expansion depth: 16/40\n",
      "Expensive parser function count: 1/500\n",
      "Unstrip recursion depth: 0/20\n",
      "Unstrip post‐expand size: 604/5000000 bytes\n",
      "Lua time usage: 0.057/10.000 seconds\n",
      "Lua memory usage: 3.08 MB/50 MB\n",
      "Number of Wikibase entities loaded: 0/400\n",
      "-->\n",
      "<!--\n",
      "Transclusion expansion time report (%,ms,calls,template)\n",
      "100.00%  290.436      1 -total\n",
      " 36.67%  106.506      1 Modèle:Lumière_sur/Aujourd'hui\n",
      " 35.49%  103.087      1 Wikipédia:Lumière_sur/Novembre_2020\n",
      " 33.70%   97.874      1 Modèle:Lumière_sur/Accueil\n",
      " 31.61%   91.817      1 Modèle:Lum\n",
      " 30.40%   88.307      1 Wikipédia:Lumière_sur/Romain_III_Argyre\n",
      " 20.68%   60.059      1 Modèle:Accueil/Titre\n",
      " 14.82%   43.044      1 Modèle:Accueil_actualité\n",
      " 14.66%   42.574      3 Modèle:Début_de_colonnes\n",
      " 14.44%   41.940      1 Modèle:Grec_ancien\n",
      "-->\n",
      "\n",
      "<!-- Saved in parser cache with key frwiki:pcache:idhash:10635368-0!canonical and timestamp 20201111122843 and revision id 164303621. Serialized with PHP.\n",
      " -->\n",
      "\n",
      "Ce document provient de «&#160;https://fr.wikipedia.org/w/index.php?title=Wikipédia:Accueil_principal&amp;oldid=164303621&#160;».\n",
      "\t\t\n",
      "\t\n",
      "\n",
      "\n",
      "\t\n",
      "\n",
      "\n",
      "\t \n",
      " \n",
      "\n",
      "\n",
      "\t\n",
      "\t\t\n",
      "\t\n",
      "\t La dernière modification de cette page a été faite le 8 novembre 2019 à 12:13.\n",
      "\tDroit d'auteur : les textes sont disponibles sous licence Creative Commons attribution, partage dans les mêmes conditions ; d’autres conditions peuvent s’appliquer. Voyez les conditions d’utilisation pour plus de détails, ainsi que les crédits graphiques. \n",
      "Wikipedia® est une marque déposée de la Wikimedia Foundation, Inc., organisation de bienfaisance régie par le paragraphe 501(c)(3) du code fiscal des États-Unis.\n",
      "\n",
      "\n",
      "\t\n",
      "\tPolitique de confidentialité\n",
      "\tÀ propos de Wikipédia\n",
      "\tAvertissements\n",
      "\tContact\n",
      "\tVersion mobile\n",
      "\tDéveloppeurs\n",
      "\tStatistiques\n",
      "\tDéclaration sur les témoins (cookies)\n",
      "\n",
      "\n",
      "\t\n",
      "\t\n",
      "\t\n",
      "\n",
      "\n",
      "\t\n",
      "\n",
      "\n",
      "\t\n",
      "\n",
      "\t \n",
      " \n",
      "\n",
      "(RLQ=window.RLQ||[]).push(function(){mw.config.set({\"wgPageParseReport\":{\"limitreport\":{\"cputime\":\"0.272\",\"walltime\":\"0.409\",\"ppvisitednodes\":{\"value\":1122,\"limit\":1000000},\"postexpandincludesize\":{\"value\":56767,\"limit\":2097152},\"templateargumentsize\":{\"value\":5641,\"limit\":2097152},\"expansiondepth\":{\"value\":16,\"limit\":40},\"expensivefunctioncount\":{\"value\":1,\"limit\":500},\"unstrip-depth\":{\"value\":0,\"limit\":20},\"unstrip-size\":{\"value\":604,\"limit\":5000000},\"entityaccesscount\":{\"value\":0,\"limit\":400},\"timingprofile\":[\"100.00%  290.436      1 -total\",\" 36.67%  106.506      1 Modèle:Lumière_sur/Aujourd'hui\",\" 35.49%  103.087      1 Wikipédia:Lumière_sur/Novembre_2020\",\" 33.70%   97.874      1 Modèle:Lumière_sur/Accueil\",\" 31.61%   91.817      1 Modèle:Lum\",\" 30.40%   88.307      1 Wikipédia:Lumière_sur/Romain_III_Argyre\",\" 20.68%   60.059      1 Modèle:Accueil/Titre\",\" 14.82%   43.044      1 Modèle:Accueil_actualité\",\" 14.66%   42.574      3 Modèle:Début_de_colonnes\",\" 14.44%   41.940      1 Modèle:Grec_ancien\"]},\"scribunto\":{\"limitreport-timeusage\":{\"value\":\"0.057\",\"limit\":\"10.000\"},\"limitreport-memusage\":{\"value\":3228085,\"limit\":52428800}},\"cachereport\":{\"origin\":\"mw1274\",\"timestamp\":\"20201111122843\",\"ttl\":3600,\"transientcontent\":true}}});mw.config.set({\"wgBackendResponseTime\":324,\"wgHostname\":\"mw1367\"});});\n",
      "\n"
     ]
    }
   ],
   "source": [
    "rip = requeteHTTP('https://fr.wikipedia.org/wiki/Wikip%C3%A9dia:Accueil_principal')\n",
    "raw_html = rip.get()\n",
    "print(rip.clean_html_string(raw_html))\n",
    "#print(rip.extract_domain_name())"
   ]
  },
  {
   "cell_type": "markdown",
   "metadata": {},
   "source": [
    "# Exploitation du HTML  "
   ]
  },
  {
   "cell_type": "markdown",
   "metadata": {},
   "source": [
    "Ici, il faut récupérer le code HTML d'un site web à partir d'une requête. Lorsque vous avez récupéré le texte d'un site il faut le parser. Pour cela, on utilise BeautifulSoup qui permet de transformer la structure HTML en objet Python. Cela permet de récupérer efficacement les données qui nous intéresse.\n",
    "\n",
    "Pour les webmasters, le blocage le plus souvent mis en place et un blocage sur le User-Agent. Le User-Agent est un paramètre intégré dans la requête HTTP réalisé par le Navigateur pour envoyer au front des informations basiques :\n",
    "\n",
    "- la version du Navigateur,\n",
    "- la version de l'OS\n",
    "- Le type de gestionnaire graphique (Gecko)\n",
    "- le type de device utilisé"
   ]
  },
  {
   "cell_type": "markdown",
   "metadata": {},
   "source": [
    "Exemple de User Agent :  \n",
    "\n",
    "`Mozilla/5.0 (Windows NT 6.1; Win64; x64; rv:47.0) Gecko/20100101 Firefox/47.0`"
   ]
  },
  {
   "cell_type": "markdown",
   "metadata": {},
   "source": [
    "Commençons à utiliser `BeautifulSoup`, pour l'installer : "
   ]
  },
  {
   "cell_type": "code",
   "execution_count": 9,
   "metadata": {},
   "outputs": [
    {
     "name": "stdout",
     "output_type": "stream",
     "text": [
      "Collecting bs4\n",
      "  Downloading bs4-0.0.1.tar.gz (1.1 kB)\n",
      "Requirement already satisfied: beautifulsoup4 in c:\\users\\xianli.desktop-ii7kspj\\anaconda3\\lib\\site-packages (from bs4) (4.8.2)\n",
      "Requirement already satisfied: soupsieve>=1.2 in c:\\users\\xianli.desktop-ii7kspj\\anaconda3\\lib\\site-packages (from beautifulsoup4->bs4) (1.9.5)\n",
      "Building wheels for collected packages: bs4\n",
      "  Building wheel for bs4 (setup.py): started\n",
      "  Building wheel for bs4 (setup.py): finished with status 'done'\n",
      "  Created wheel for bs4: filename=bs4-0.0.1-py3-none-any.whl size=1279 sha256=eaf2af3fdaccdbfb23dec39036dbc9c01404c79c7f8edbea688c168d710b0bf7\n",
      "  Stored in directory: c:\\users\\xianli.desktop-ii7kspj\\appdata\\local\\pip\\cache\\wheels\\0a\\9e\\ba\\20e5bbc1afef3a491f0b3bb74d508f99403aabe76eda2167ca\n",
      "Successfully built bs4\n",
      "Installing collected packages: bs4\n",
      "Successfully installed bs4-0.0.1\n",
      "Requirement already satisfied: lxml in c:\\users\\xianli.desktop-ii7kspj\\anaconda3\\lib\\site-packages (4.5.0)\n"
     ]
    }
   ],
   "source": [
    "!pip install bs4\n",
    "!pip install  lxml"
   ]
  },
  {
   "cell_type": "code",
   "execution_count": 27,
   "metadata": {},
   "outputs": [],
   "source": [
    "import requests\n",
    "from bs4 import BeautifulSoup"
   ]
  },
  {
   "cell_type": "markdown",
   "metadata": {},
   "source": [
    "Pour transformer une requête (requests) en objet BeautifulSoup :"
   ]
  },
  {
   "cell_type": "code",
   "execution_count": 28,
   "metadata": {},
   "outputs": [],
   "source": [
    "response = requests.get(url)\n",
    "soup = BeautifulSoup(response.text)"
   ]
  },
  {
   "cell_type": "markdown",
   "metadata": {},
   "source": [
    "Il se peut qu'un message d'erreur arrive à ce point là si vous n'avez pas la librarie `lxml` installée, pour se faire vous avez juste à lancer la commande suivante : "
   ]
  },
  {
   "cell_type": "code",
   "execution_count": 22,
   "metadata": {},
   "outputs": [
    {
     "name": "stdout",
     "output_type": "stream",
     "text": [
      "Requirement already satisfied: lxml in c:\\users\\xianli.desktop-ii7kspj\\anaconda3\\lib\\site-packages (4.5.0)\n"
     ]
    }
   ],
   "source": [
    "!pip install lxml"
   ]
  },
  {
   "cell_type": "markdown",
   "metadata": {},
   "source": [
    "Pour trouver tous les liens d'une page on récupère la balise `a` qui permet de gérer les liens en HTML  :"
   ]
  },
  {
   "cell_type": "code",
   "execution_count": 29,
   "metadata": {},
   "outputs": [
    {
     "data": {
      "text/plain": [
       "[<a href=\"#\">\n",
       " <i class=\"icon-parametres\"></i>\n",
       " </a>,\n",
       " <a href=\"https://gmail.com\" target=\"_blank\" title=\"Webmail ESIEE Paris\"><i><img alt=\"\" src=\"https://www.esiee.fr/sites/default/files/menu_icons/menu_icon_950.png\"/> </i><span>Webmail ESIEE Paris</span></a>,\n",
       " <a href=\"https://planif.esiee.fr/direct/\" target=\"_blank\" title=\"Emploi du temps général\"><i><img alt=\"\" src=\"https://www.esiee.fr/sites/default/files/menu_icons/menu_icon_1331.png\"/> </i><span>Emploi du temps général</span></a>,\n",
       " <a href=\"https://planif.esiee.fr/jsp/custom/esiee/easyMyPlanning.jsp\" target=\"_blank\" title=\"Emploi du temps individuel\"><i><img alt=\"\" src=\"https://www.esiee.fr/sites/default/files/menu_icons/menu_icon_1332.png\"/> </i><span>Emploi du temps individuel</span></a>,\n",
       " <a href=\"https://intra.esiee.fr\" target=\"_blank\" title=\"Extranet\"><i><img alt=\"\" src=\"https://www.esiee.fr/sites/default/files/menu_icons/menu_icon_951.png\"/> </i><span>Extranet</span></a>,\n",
       " <a href=\"https://esiee.blackboard.com\" target=\"_blank\" title=\"iCampus\"><i><img alt=\"\" src=\"https://www.esiee.fr/sites/default/files/menu_icons/menu_icon_1311.png\"/> </i><span>iCampus</span></a>,\n",
       " <a href=\"http://e5.onthehub.com/WebStore/Welcome.aspx?vsro=8&amp;ws=45AD823E-799B-E011-969D-0030487D8897&amp;JSEnabled=1\" target=\"_blank\" title=\"Microsoft DreamSpark\"><i><img alt=\"\" src=\"https://www.esiee.fr/sites/default/files/menu_icons/menu_icon_1696.png\"/> </i><span>Microsoft DreamSpark</span></a>,\n",
       " <a href=\"/en\">\n",
       " <i>\n",
       " <img alt=\"English\" src=\"/sites/all/themes/custom/esiee_theme/assets/images/flag-en.png\"/>\n",
       " </i>\n",
       " </a>,\n",
       " <a href=\"https://www.facebook.com/esieeparis\" target=\"_blank\">\n",
       " <i class=\"fa fa-facebook\"></i>\n",
       " </a>,\n",
       " <a href=\"https://twitter.com/ESIEEPARIS\" target=\"_blank\">\n",
       " <i class=\"fa fa-twitter\"></i>\n",
       " </a>]"
      ]
     },
     "execution_count": 29,
     "metadata": {},
     "output_type": "execute_result"
    }
   ],
   "source": [
    "soup.find_all(\"a\")[0:10]"
   ]
  },
  {
   "cell_type": "markdown",
   "metadata": {},
   "source": [
    "On peut préciser la classe HTML voulue  pour l'ensemble des `a`:\n",
    "\n",
    "```python\n",
    "soup.find_all(class_=\"<CLASS_NAME>\")[0:10]\n",
    "```\n",
    "\n",
    "Ici par exemple: "
   ]
  },
  {
   "cell_type": "code",
   "execution_count": 20,
   "metadata": {},
   "outputs": [
    {
     "data": {
      "text/plain": [
       "[<div class=\"slide slide-content\">\n",
       " <span class=\"slide-content-date inline-block\"><span class=\"date-display-single\">19.11.2019</span></span>\n",
       " <span class=\"slide-content-theme inline-block is-uppercase\">Evènements</span>\n",
       " <div class=\"clearfix\"></div>\n",
       " <div class=\"slide-content-img pull-left\"><!-- scald=2387:news_thumbnail --><img alt=\"Vignette Webserie Episode 1\" height=\"90\" src=\"https://www.esiee.fr/sites/default/files/styles/news/public/thumbnails/image/vignette-episode-1.jpg.png?itok=zxvSPpas\" title=\"Vignette Webserie Episode 1\" width=\"120\"/><!-- END scald=2387 --></div>\n",
       " <span class=\"slide-content-title\"><a class=\"is-uppercase\" href=\"/fr/actualite/webserie-yann-lecun-prix-turing\">Lancement de la webserie Yann LeCun Prix Turing et ESIEE Paris</a></span>\n",
       " <div class=\"clearfix\"></div>\n",
       " <p class=\"slide-content-desc\">Découvrez la nouvelle Webserie sur l'histoire commune entre Yann LeCun, lauréat du Prix Turing, et ESIEE Paris.</p> </div>,\n",
       " <div class=\"slide slide-content\">\n",
       " <span class=\"slide-content-date inline-block\"><span class=\"date-display-single\">21.10.2019</span></span>\n",
       " <span class=\"slide-content-theme inline-block is-uppercase\">Salons</span>\n",
       " <div class=\"clearfix\"></div>\n",
       " <div class=\"slide-content-img pull-left\"><!-- scald=2280:news_thumbnail --><img alt=\"Salons\" height=\"90\" src=\"https://www.esiee.fr/sites/default/files/styles/news/public/thumbnails/image/generique-salons.png?itok=2Y0RvWr2\" title=\"Salons\" width=\"120\"/><!-- END scald=2280 --></div>\n",
       " <span class=\"slide-content-title\"><a class=\"is-uppercase\" href=\"/fr/actualite/salons-etudiants-novembre-2019\">Salons étudiants | Rendez-vous avec ESIEE Paris en Novembre !</a></span>\n",
       " <div class=\"clearfix\"></div>\n",
       " <p class=\"slide-content-desc\">Vous recherchez une formation d'ingénieur ? Découvrez les filières ESIEE Paris.</p> </div>,\n",
       " <div class=\"slide slide-content\">\n",
       " <span class=\"slide-content-date inline-block\"><span class=\"date-display-single\">20.09.2019</span></span>\n",
       " <span class=\"slide-content-theme inline-block is-uppercase\">Journée portes ouvertes</span>\n",
       " <div class=\"clearfix\"></div>\n",
       " <div class=\"slide-content-img pull-left\"><!-- scald=2282:news_thumbnail --><img alt=\"JPO ESIEE Paris\" height=\"90\" src=\"https://www.esiee.fr/sites/default/files/styles/news/public/thumbnails/image/generique-jpo.jpg?itok=Y_OmDg80\" title=\"JPO ESIEE Paris\" width=\"120\"/><!-- END scald=2282 --></div>\n",
       " <span class=\"slide-content-title\"><a class=\"is-uppercase\" href=\"/fr/actualite/portes-ouvertes-14-decembre-2019\">14 décembre 2019 | Journée Portes Ouvertes</a></span>\n",
       " <div class=\"clearfix\"></div>\n",
       " <p class=\"slide-content-desc\">Bien choisir son école, c'est aussi la rencontrer ! Rendez-vous le 14 décembre 2019 (13 h à 18 h) à ESIEE Paris.</p> </div>,\n",
       " <div class=\"slide slide-content\">\n",
       " <span class=\"slide-content-date inline-block\"><span class=\"date-display-single\">21.11.2019</span></span>\n",
       " <span class=\"slide-content-theme inline-block is-uppercase\">Conférences</span>\n",
       " <div class=\"clearfix\"></div>\n",
       " <div class=\"slide-content-img pull-left\"><!-- scald=2390:news_thumbnail --><img alt=\"Conférence de clôture de la chaire Blaise Pascal\" height=\"90\" src=\"https://www.esiee.fr/sites/default/files/styles/news/public/thumbnails/image/illustration-conference-professeur-cui-2019_0.png?itok=k1zH48d0\" title=\"Conférence de clôture de la chaire Blaise Pascal\" width=\"120\"/><!-- END scald=2390 --></div>\n",
       " <span class=\"slide-content-title\"><a class=\"is-uppercase\" href=\"/fr/actualite/recherche-professeur-cui-conference-2019\">Chaire Blaise Pascal - Conférence de clôture du Professeur CUI, Professeur invité</a></span>\n",
       " <div class=\"clearfix\"></div>\n",
       " <p class=\"slide-content-desc\">Le Professeur Tianhong CUI, Professeur en ingénierie mécanique de renommée mondiale effectuera sa dernière conférence dans le cadre de la chaire Blaise Pascal.</p> </div>,\n",
       " <div class=\"slide slide-content\">\n",
       " <span class=\"slide-content-date inline-block\"><span class=\"date-display-single\">12.09.2019</span></span>\n",
       " <span class=\"slide-content-theme inline-block is-uppercase\">Evènements</span>\n",
       " <div class=\"clearfix\"></div>\n",
       " <div class=\"slide-content-img pull-left\"><!-- scald=2253:news_thumbnail --><img alt=\"FUTURE Days 2019\" height=\"90\" src=\"https://www.esiee.fr/sites/default/files/styles/news/public/thumbnails/image/illustration-futuredays2019-v3.jpg?itok=GUrdDpt6\" title=\"FUTURE Days 2019\" width=\"120\"/><!-- END scald=2253 --></div>\n",
       " <span class=\"slide-content-title\"><a class=\"is-uppercase\" href=\"/fr/actualite/futuredays-2019\">Participez aux FUTURE Days 2019, l’évènement du grand Paris sur les villes de demain</a></span>\n",
       " <div class=\"clearfix\"></div>\n",
       " <p class=\"slide-content-desc\">FUTURES Days \"Héritages et anticipations urbaines\" | Les 27 et 28 novembre 2019</p> </div>]"
      ]
     },
     "execution_count": 20,
     "metadata": {},
     "output_type": "execute_result"
    }
   ],
   "source": [
    "soup.find_all(class_=\"slide\")[0:5]"
   ]
  },
  {
   "cell_type": "markdown",
   "metadata": {},
   "source": [
    "Pour récupérer le text sans les balises HTML :"
   ]
  },
  {
   "cell_type": "code",
   "execution_count": 21,
   "metadata": {},
   "outputs": [
    {
     "data": {
      "text/plain": [
       "\"\\n\\n\\n\\n\\n  \\n\\n\\n\\n\\n\\n\\nESIEE Paris, l’école de l’innovation technologique | Grande école d’ingénieurs | ESIEE Paris\\n\\n\\n\\n\\n\\n\\n\\n\\n\\n\\n\\n\\n \\n\\n\\n\\n\\n\\n\\n\\n\\n\\n\\n\\nLes outils ESIEE Paris Webmail ESIEE Paris Emploi du temps général Emploi du temps individuel Extranet iCampus Microsoft DreamSpark \\n\\n\\n\\n\\n\\n\\n\\n\\n\\n\\n\\n\\n\\n\\n\\n\\n\\n\\n\\n\\n\\n\\n\\n\\n\\n\\n\\n\\n\\n\\n\\n\\n\\n\\n\\n\\n\\n\\n\\n\\n\\n\\n\\n\\n\\n\\n menu\\nFormations\\n\\n\\nRETOUR menu\\nFormations ESIEE ParisIngénieur\\n\\n\\nIngénieur\\nRETOUR Formations\\nIngénieur ESIEE ParisPremier cycleLe cycle ingénieur\\n\\n\\nLe cycle ingénieur\\nRETOUR Ingénieur\\nLe cycle ingénieur ESIEE ParisEnseignements de 1ère annéeEnseignements de 2e et 3e annéeProfils métiersFilières\\n\\n\\nFilières\\nRETOUR Ingénieur\\n8 filières, 1 diplômeInformatiqueCybersécurité des Systèmes d'informationDatascience et intelligence artificielleSystèmes embarquésSystèmes électroniques intelligentsGénie industrielBiotechnologies et e-santéEnergieEmplois et salairesFrais de scolarité ingénieur et aides financièresStagesAdmissionsContactIngénieur par apprentissage\\n\\n\\nIngénieur par apprentissage\\nR\""
      ]
     },
     "execution_count": 21,
     "metadata": {},
     "output_type": "execute_result"
    }
   ],
   "source": [
    "soup.text[0:1000]"
   ]
  },
  {
   "cell_type": "markdown",
   "metadata": {},
   "source": [
    "## Exercice\n",
    "### Exercice 3\n",
    "\n",
    "Améliorer la classe développé précédemment.\n",
    "\n",
    "- Ajouter une méthode pour récupérer l'objet soup d'un url\n",
    "- Récupérer une liste de User Agent et effectuer une rotation aléatoire sur celui à utiliser\n",
    "- Utiliser cette classe pour parser une page HTML et récupérer : le titre, tous les H1 (si ils existent), les liens vers les images, les liens sortants vers d'autres sites, et le texte principal.\n",
    "\n",
    "Parsing d'un sitemaps pour récupérer une listes de liens avec les informations disponibles. -> Stocker dans un dictionnaire et dans un fichier JSON local."
   ]
  },
  {
   "cell_type": "code",
   "execution_count": 45,
   "metadata": {},
   "outputs": [
    {
     "name": "stdout",
     "output_type": "stream",
     "text": [
      "Collecting fake_useragent\n",
      "  Downloading fake-useragent-0.1.11.tar.gz (13 kB)\n",
      "Building wheels for collected packages: fake-useragent\n",
      "  Building wheel for fake-useragent (setup.py): started\n",
      "  Building wheel for fake-useragent (setup.py): finished with status 'done'\n",
      "  Created wheel for fake-useragent: filename=fake_useragent-0.1.11-py3-none-any.whl size=13489 sha256=6178fe32a622049632c5e700a05c8692450221777702abc10b768013c5ec5f8d\n",
      "  Stored in directory: c:\\users\\xianli.desktop-ii7kspj\\appdata\\local\\pip\\cache\\wheels\\ed\\f7\\62\\50ab6c9a0b5567267ab76a9daa9d06315704209b2c5d032031\n",
      "Successfully built fake-useragent\n",
      "Installing collected packages: fake-useragent\n",
      "Successfully installed fake-useragent-0.1.11\n"
     ]
    }
   ],
   "source": [
    "!pip install fake_useragent"
   ]
  },
  {
   "cell_type": "code",
   "execution_count": 105,
   "metadata": {},
   "outputs": [],
   "source": [
    "class requeteHTTP :\n",
    "    \n",
    "    def __init__(self, url):\n",
    "         \n",
    "        ua = UserAgent()\n",
    "        self.headers = {'User-Agent': ua.random}\n",
    "\n",
    "        #self.headers = {'User-Agent': 'Mozilla/5.0 (Macintosh; Intel Mac OS X 10_10_1) AppleWebKit/537.36 (KHTML, like Gecko) Chrome/39.0.2171.95 Safari/537.36'}\n",
    "        self.url = url\n",
    "        \n",
    "    #exo 1\n",
    "    def get(self, timeout = 10, max_retry = 3):\n",
    "        rep = requests.get(self.url, headers = self.headers, timeout = timeout)\n",
    "        cpt = 0\n",
    "        while rep.status_code != 200 and cpt < max_retry :\n",
    "            rep = requests.get(url, timeout = timeout)\n",
    "            cpt += 1\n",
    "        return rep.text\n",
    "    \n",
    "    #exo 2\n",
    "    def remove_white_spaces(self, x):\n",
    "        return x.strip()\n",
    "    \n",
    "    def clean_html_string(self, raw_html):\n",
    "        cleaner = re.compile('<.*?>')\n",
    "        cleantext = re.sub(cleaner, '', raw_html)\n",
    "        return cleantext\n",
    "    \n",
    "    def extract_domain_name(self):\n",
    "        m = re.search('http?://([A-Za-z_0-9.-]+).*', self.url)\n",
    "        if m:\n",
    "            return m.group(1)\n",
    "    \n",
    "    #exo 3 \n",
    "    def get_soup(self, text_response):\n",
    "        return BeautifulSoup(text_response, \"lxml\")\n",
    "    \n",
    "    #le titre, tous les H1 (si ils existent), les liens vers les images, les liens sortants vers d'autres sites, et le texte principal.\n",
    "    def get_titre(self, soup):\n",
    "        return soup.find(\"title\")\n",
    "    \n",
    "    def get_H1(self, soup):\n",
    "        try :\n",
    "            return soup.find_all(\"h2\")[0:10]\n",
    "        except :\n",
    "            return []\n",
    "    \n",
    "    def get_lien_image(self, soup):\n",
    "        try :\n",
    "            return [element['src'] for element in soup.find_all('img') if element.get('src')]\n",
    "        except :\n",
    "            return []\n",
    "        \n",
    "    def get_lien_exterieur(self, soup):\n",
    "        liste_liens = [elt['href'] for elt in soup.find_all('a')]\n",
    "        return [elt for elt in liste_liens if not elt.startswith(self.extract_domain_name())]\n",
    "    \n",
    "    def tag_visible(self, element):\n",
    "        if element.parent.name in ['style', 'script', 'head', 'title', 'meta', '[document]']:\n",
    "            return False\n",
    "        return True\n",
    "    \n",
    "    def get_text(self, soup):\n",
    "        text = soup.find_all(text = True)\n",
    "        text_visible = filter(self.tag_visible, text)\n",
    "        return u\" \".join(t.strip for t in text_visible)"
   ]
  },
  {
   "cell_type": "code",
   "execution_count": 106,
   "metadata": {},
   "outputs": [
    {
     "ename": "TypeError",
     "evalue": "sequence item 0: expected str instance, builtin_function_or_method found",
     "output_type": "error",
     "traceback": [
      "\u001b[1;31m---------------------------------------------------------------------------\u001b[0m",
      "\u001b[1;31mTypeError\u001b[0m                                 Traceback (most recent call last)",
      "\u001b[1;32m<ipython-input-106-78caa4bdffe3>\u001b[0m in \u001b[0;36m<module>\u001b[1;34m\u001b[0m\n\u001b[0;32m      3\u001b[0m \u001b[1;31m#print(requete.clean_html_string(raw_html))\u001b[0m\u001b[1;33m\u001b[0m\u001b[1;33m\u001b[0m\u001b[1;33m\u001b[0m\u001b[0m\n\u001b[0;32m      4\u001b[0m \u001b[0msoup\u001b[0m \u001b[1;33m=\u001b[0m \u001b[0mrequete\u001b[0m\u001b[1;33m.\u001b[0m\u001b[0mget_soup\u001b[0m\u001b[1;33m(\u001b[0m\u001b[0mraw_html\u001b[0m\u001b[1;33m)\u001b[0m\u001b[1;33m\u001b[0m\u001b[1;33m\u001b[0m\u001b[0m\n\u001b[1;32m----> 5\u001b[1;33m \u001b[0mprint\u001b[0m\u001b[1;33m(\u001b[0m\u001b[0mrequete\u001b[0m\u001b[1;33m.\u001b[0m\u001b[0mget_text\u001b[0m\u001b[1;33m(\u001b[0m\u001b[0msoup\u001b[0m\u001b[1;33m)\u001b[0m\u001b[1;33m)\u001b[0m\u001b[1;33m\u001b[0m\u001b[1;33m\u001b[0m\u001b[0m\n\u001b[0m",
      "\u001b[1;32m<ipython-input-105-f89f79bc0f61>\u001b[0m in \u001b[0;36mget_text\u001b[1;34m(self, soup)\u001b[0m\n\u001b[0;32m     64\u001b[0m         \u001b[0mtext\u001b[0m \u001b[1;33m=\u001b[0m \u001b[0msoup\u001b[0m\u001b[1;33m.\u001b[0m\u001b[0mfind_all\u001b[0m\u001b[1;33m(\u001b[0m\u001b[0mtext\u001b[0m \u001b[1;33m=\u001b[0m \u001b[1;32mTrue\u001b[0m\u001b[1;33m)\u001b[0m\u001b[1;33m\u001b[0m\u001b[1;33m\u001b[0m\u001b[0m\n\u001b[0;32m     65\u001b[0m         \u001b[0mtext_visible\u001b[0m \u001b[1;33m=\u001b[0m \u001b[0mfilter\u001b[0m\u001b[1;33m(\u001b[0m\u001b[0mself\u001b[0m\u001b[1;33m.\u001b[0m\u001b[0mtag_visible\u001b[0m\u001b[1;33m,\u001b[0m \u001b[0mtext\u001b[0m\u001b[1;33m)\u001b[0m\u001b[1;33m\u001b[0m\u001b[1;33m\u001b[0m\u001b[0m\n\u001b[1;32m---> 66\u001b[1;33m         \u001b[1;32mreturn\u001b[0m \u001b[1;34mu\" \"\u001b[0m\u001b[1;33m.\u001b[0m\u001b[0mjoin\u001b[0m\u001b[1;33m(\u001b[0m\u001b[0mt\u001b[0m\u001b[1;33m.\u001b[0m\u001b[0mstrip\u001b[0m \u001b[1;32mfor\u001b[0m \u001b[0mt\u001b[0m \u001b[1;32min\u001b[0m \u001b[0mtext_visible\u001b[0m\u001b[1;33m)\u001b[0m\u001b[1;33m\u001b[0m\u001b[1;33m\u001b[0m\u001b[0m\n\u001b[0m",
      "\u001b[1;31mTypeError\u001b[0m: sequence item 0: expected str instance, builtin_function_or_method found"
     ]
    }
   ],
   "source": [
    "requete = requeteHTTP('http://www.esiee.fr/')\n",
    "raw_html = requete.get()\n",
    "#print(requete.clean_html_string(raw_html))\n",
    "soup = requete.get_soup(raw_html)\n",
    "print(requete.get_text(soup))"
   ]
  },
  {
   "cell_type": "markdown",
   "metadata": {},
   "source": [
    "# Exploitation des appels d'API\n"
   ]
  },
  {
   "cell_type": "markdown",
   "metadata": {},
   "source": [
    "\n",
    "Losque le front du site récupère des données sur une API géré par le back, un appel d'API est réalisé. Cet appel est recensé dans les appels réseaux. Il est alors possible de re-jouer cet appel pour récupérer à nouveau les données. Il est très facile de récupérer ces appels dans l'onglet Network de la console développeur de Chrome ou FireFox. La console vous permet de copier le code CURL pour effectuée et vous pouvez ensuite la transformer en code Python depuis le site https://curl.trillworks.com/.\n",
    "\n",
    "Souvent les APIs sont bloquées avec certain paramètres. L'API verifie que dans les headers de la requêtes HTTP ces paramètres sont présents : * un token généré à la volée avec des protocole OAuth2 (ou moins développés). * un referer provenant du site web (la source de la requête), très facile à falsifier.\n",
    "\n"
   ]
  },
  {
   "cell_type": "markdown",
   "metadata": {},
   "source": [
    "## Exercice \n",
    "### Exercice 4\n",
    "\n",
    "- Utiliser les informations développées plus haut pour récupérer les premiers résultats d'une recherche d'une requête\n",
    "sur Qwant. \n",
    "\n",
    "Tips : \n",
    "\n",
    "- Aller sur https://www.qwant.com/\n",
    "- Ouvrir les outils de développements de Chrome ou Firefox\n",
    "- Onglet Network\n",
    "- Fouiller dans les requêtes"
   ]
  },
  {
   "cell_type": "markdown",
   "metadata": {},
   "source": [
    "# Exercice Final  "
   ]
  },
  {
   "cell_type": "markdown",
   "metadata": {},
   "source": [
    "Exercice Final\n",
    "Utilisez tout ce que vous avez appris pour récupérer des articles de News avec une catégorie. Il est souvent intéressant de partir des flux RSS pour commencer :\n",
    "\n",
    "Les données doivent comprendre :\n",
    "- Le texte important propre\n",
    "- L'url\n",
    "- Le domaine\n",
    "- la catégorie\n",
    "- Le titre de l'article\n",
    "- Le titre de la page\n",
    "- (Facultatif) : les images\n",
    "\n",
    "Tips : \n",
    "\n",
    "- Taper le nom de votre média favoris + RSS (par exemple : https://www.lemonde.fr/rss/)\n",
    "- Aller dans le DOM de la page \n",
    "- Trouver les catégories et les liens vers les articles"
   ]
  },
  {
   "cell_type": "code",
   "execution_count": null,
   "metadata": {},
   "outputs": [],
   "source": []
  }
 ],
 "metadata": {
  "kernelspec": {
   "display_name": "Python 3",
   "language": "python",
   "name": "python3"
  },
  "language_info": {
   "codemirror_mode": {
    "name": "ipython",
    "version": 3
   },
   "file_extension": ".py",
   "mimetype": "text/x-python",
   "name": "python",
   "nbconvert_exporter": "python",
   "pygments_lexer": "ipython3",
   "version": "3.7.6"
  }
 },
 "nbformat": 4,
 "nbformat_minor": 2
}
